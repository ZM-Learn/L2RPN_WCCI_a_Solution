{
 "cells": [
  {
   "cell_type": "markdown",
   "metadata": {},
   "source": [
    "<h1> Step 4 (optional): Debug your agent </h1> \n",
    "\n",
    "## 1) Test your agent\n",
    "\n",
    "Your submission folder must contain:\n",
    "- all the necessary scripts and data so that your `__init__.py` file can run\n",
    "- a `__init__.py` file that defines a `make_agent` function, which should return your agent, and optionally a `reward` class\n",
    "\n",
    "Read again the notebook [2_Develop_And_RunLocally_An_agent](2_Develop_And_RunLocally_An_agent.ipynb) carefully for more information."
   ]
  },
  {
   "cell_type": "markdown",
   "metadata": {},
   "source": [
    "First, let's check that your agent fails to pass the test:"
   ]
  },
  {
   "cell_type": "code",
   "execution_count": null,
   "metadata": {},
   "outputs": [],
   "source": [
    "from check_your_submission import main as test_submission\n",
    "\n",
    "model_dir = 'example_submissions/submission_withreward' # your submission directory\n",
    "test_submission(model_dir)"
   ]
  },
  {
   "cell_type": "markdown",
   "metadata": {},
   "source": [
    "If the previous test indeed failed, then follow the next steps."
   ]
  },
  {
   "cell_type": "markdown",
   "metadata": {},
   "source": [
    "## 2) Make sure your zip file has the expected format\n",
    "\n",
    "The first error that can happen is an incorrect structure of your submission folder.\n",
    "\n",
    "Your submission folder **must** look like:\n",
    "```bash\n",
    "any_name_you_want\n",
    "├── any_other_name.py\n",
    "├── __init__.py\n",
    "├── ...\n",
    "```\n",
    "\n",
    "Then you can zip it to have the proper shape if you use the command line:\n",
    "```commandline\n",
    "python check_your_submission.py --model_dir PATH/TO/any_name_you_want\n",
    "```\n",
    "\n",
    "or use the code provided in the first cell of this notebook by changing the name of the `model_dir` variable:\n",
    "```python\n",
    "from check_your_submission import main as test_submission\n",
    "\n",
    "model_dir = 'PATH/TO/any_name_you_want' # your submission directory\n",
    "test_submission(model_dir)\n",
    "```\n",
    "\n",
    "**/!\\ WE DO NOT RECOMMEND TO ZIP IT MANUALLY** but if you chose to, note than the content of the resulting archive should look like:\n",
    "```bash\n",
    "any_name.zip\n",
    "├── submission\n",
    "│   ├── any_other_name.py\n",
    "│   ├── __init__.py \n",
    "│   ├── ...\n",
    "├── metadata\n",
    "```\n",
    "\n",
    "We have made a function to help you zip your model properly. You can chek the notebook [3_SubmitToCodalab](3_SubmitToCodalab.ipynb) for more information."
   ]
  },
  {
   "cell_type": "markdown",
   "metadata": {},
   "source": [
    "## 3) Check your `__init__.py` file\n",
    "\n",
    "If your folder structure is correct, then chances are high that the error comes from your `__init__.py` file.\n",
    "\n",
    "**A `make_agent` function must be defined inside your `__init__.py` file**, and optionally a `reward` class.\n",
    "\n",
    "An example of `__init__.py` file can simply be, if the `make_agent` function is defined in a script named MyScript.py:\n",
    "```\n",
    "from .MyScript import make_agent\n",
    "```\n",
    "\n",
    "Note that `from .MyScript import make_agent` or `from submission.MyScript import make_agent` will work, but `from MyScript import make_agent` will **NOT** work.\n",
    "\n",
    "Also check that the `make_agent` function, and your agent that it returns, have the correct signatures as explained in the notebook [2_Develop_And_RunLocally_An_agent](2_Develop_And_RunLocally_An_agent.ipynb).\n",
    "\n",
    "**NB** To make easy the process of developping an agent, we recommend you to use *relative imports* in all your scripts. This means that if you have the strucutre:\n",
    "```bash\n",
    "any_name_you_want\n",
    "├── any_other_name.py\n",
    "├── __init__.py\n",
    "├── yet_any_other_name.py\n",
    "├── yet_again_any_other_name.py\n",
    "```\n",
    "in the directory where you develop your agent you use relative imports between \"any_other_name.py\" \"yet_any_other_name.py\" and \"yet_again_any_other_name.py\". \n",
    "\n",
    "For example, if you have a function located in `yet_again_any_other_name.py` that depends on a function named `my_awesome_fun` defined in `yet_any_other_name.py` you should do, in `yet_again_any_other_name.py`:\n",
    "```python\n",
    "from .yet_any_other_name import my_awesome_fun\n",
    "# make wonder with my_awesome_fun\n",
    "...\n",
    "```\n",
    "Notice the `.` in front of `yet_any_other_name` that might be unusual."
   ]
  },
  {
   "cell_type": "markdown",
   "metadata": {},
   "source": [
    "## 4) Check your other files\n",
    "\n",
    "If you are confident that your folder structure and your `__init__.py` file are both correct, then the error probably comes from your other scripts. Check that all of your scripts run correctly in a python environment.\n",
    "\n",
    "In all the python files included into your repository, **make sure to use relative import** (with a `.` or absolute import, using the `submission.` like in the `__init__.py` file. Otherwise, the imports will fail.\n",
    "\n",
    "## Other questions\n",
    "\n",
    "If your problem is still not solved, do not hesitate to ask us on the dedicated discord https://discord.gg/cYsYrPT."
   ]
  }
 ],
 "metadata": {
  "kernelspec": {
   "display_name": "Python 3",
   "language": "python",
   "name": "python3"
  },
  "language_info": {
   "codemirror_mode": {
    "name": "ipython",
    "version": 3
   },
   "file_extension": ".py",
   "mimetype": "text/x-python",
   "name": "python",
   "nbconvert_exporter": "python",
   "pygments_lexer": "ipython3",
   "version": "3.8.2"
  }
 },
 "nbformat": 4,
 "nbformat_minor": 4
}
