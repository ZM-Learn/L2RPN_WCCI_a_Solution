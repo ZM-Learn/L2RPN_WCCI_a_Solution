{
 "cells": [
  {
   "cell_type": "markdown",
   "metadata": {},
   "source": [
    "<div>\n",
    "<h1> Making a submission on Codalab</h1> \n",
    "\n",
    "<h2> Unit testing </h2> \n",
    "\n",
    "It is <b><span style=\"color:red\">important that you test your submission files before submitting them</span></b>. All you have to do to make a submission is create or modify the `make_agent` and `reward` variables in the `submission.py` script as seen earlier, then make sure that everything works fine with the following test script. This is the actual program that will run on the server to test your submission. <br>\n",
    "\n",
    "Note that on codalab, your local directory is <code>program/</code>. Then if you want to load the file <code>model.dump</code>, you must run : <code>open(\"program/model.dump\")</code> if the file is located at the root of your submission directory.\n",
    "</div>\n",
    "\n",
    "**NB** The training dataset provided in this package was not built the same way as the private validation dataset. It is normal that your agent will have a very different score on codalab than here locally.\n",
    "\n",
    "For example, as we mentioned, the starting dates / times are very different in the hidden dataset compared to the provided dataset.\n",
    "\n",
    "Also, the hidden dataset on which your agent will be evaluated has been carefully picked so as to offer different levels of difficulty, but the provided training dataset has NOT. For that reason, the scores will likely not be similar, even though these two datasets originate from the same distribution.\n",
    "\n",
    "Also, on codalab, your agent might timeout if it takes too much time to run. However, for this sandbox competition, only small care has been taken about the execution time so this is not a very restrictive constraint.\n",
    "\n",
    "The next two cells will test that everything is working correctly and that the submission can be sent. That process will run the agent on a small portion of the training dataset. **It will also generate the zip file that you will have to upload to Codalab.**"
   ]
  },
  {
   "cell_type": "code",
   "execution_count": null,
   "metadata": {},
   "outputs": [],
   "source": [
    "from check_your_submission import main as test_submission\n",
    "\n",
    "model_dir = 'example_submissions/submission' # your submission directory\n",
    "test_submission(model_dir)"
   ]
  },
  {
   "cell_type": "markdown",
   "metadata": {},
   "source": [
    "<h1> If the previous test fails </h1>\n",
    "\n",
    "If the previous test fails, check the notebook [4_DebugYourSubmission](4_DebugYourSubmission.ipynb) to try to debug your submission.\n",
    "\n",
    "If the previous test fails, check that your folder is named **\"submission\"** and read again the notebook [2_Develop_And_RunLocally_An_agent](2_Develop_And_RunLocally_An_agent.ipynb) carefully. In particular, check that your code is well structured, as explained in the previous notebook, and that the `__init__.py` script indeed defines a `make_agent` function, and optionally a `reward` class. Also check that your `make_agent` function and your agent have the correct signatures, as we explained.\n",
    "\n",
    "If you still need help, do not hesitate to reach out to us on the dedicated discord server here : https://discord.gg/cYsYrPT."
   ]
  },
  {
   "cell_type": "markdown",
   "metadata": {},
   "source": [
    "<h1> Uploading to Codalab </h1>\n",
    "\n",
    "The previous test generated a zip file for you. Its location was printed in the cell output so you can find it.\n",
    "\n",
    "If the previous test ran correctly, all you have to do is upload it on codalab."
   ]
  }
 ],
 "metadata": {
  "kernelspec": {
   "display_name": "Python 3",
   "language": "python",
   "name": "python3"
  },
  "language_info": {
   "codemirror_mode": {
    "name": "ipython",
    "version": 3
   },
   "file_extension": ".py",
   "mimetype": "text/x-python",
   "name": "python",
   "nbconvert_exporter": "python",
   "pygments_lexer": "ipython3",
   "version": "3.8.2"
  }
 },
 "nbformat": 4,
 "nbformat_minor": 2
}
